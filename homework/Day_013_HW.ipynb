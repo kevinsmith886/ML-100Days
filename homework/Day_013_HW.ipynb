{
 "cells": [
  {
   "cell_type": "markdown",
   "metadata": {},
   "source": [
    "## 練習時間\n",
    "參考 Day 12 範例程式，離散化你覺得有興趣的欄位，並嘗試找出有趣的訊息"
   ]
  },
  {
   "cell_type": "code",
   "execution_count": 2,
   "metadata": {},
   "outputs": [],
   "source": [
    "# Import 需要的套件\n",
    "import os\n",
    "import numpy as np\n",
    "import pandas as pd\n",
    "\n",
    "import matplotlib.pyplot as plt\n",
    "%matplotlib inline"
   ]
  },
  {
   "cell_type": "markdown",
   "metadata": {},
   "source": [
    "### 之前做過的處理"
   ]
  },
  {
   "cell_type": "code",
   "execution_count": 3,
   "metadata": {},
   "outputs": [],
   "source": [
    "# 設定 data_path\n",
    "dir_data = 'C:\\\\Users\\\\kevin\\\\Documents\\\\GitHub\\\\ML-100Days\\\\data'\n",
    "f_app_train = os.path.join(dir_data, 'application_train.csv')\n",
    "f_app_test = os.path.join(dir_data, 'application_test.csv')\n",
    "\n",
    "app_train = pd.read_csv(f_app_train)\n",
    "app_test = pd.read_csv(f_app_test)\n",
    "\n",
    "from sklearn.preprocessing import LabelEncoder\n",
    "\n",
    "# Create a label encoder object\n",
    "le = LabelEncoder()\n",
    "le_count = 0\n",
    "\n",
    "# Iterate through the columns\n",
    "for col in app_train:\n",
    "    if app_train[col].dtype == 'object':\n",
    "        # If 2 or fewer unique categories\n",
    "        if len(list(app_train[col].unique())) <= 2:\n",
    "            # Train on the training data\n",
    "            le.fit(app_train[col])\n",
    "            # Transform both training and testing data\n",
    "            app_train[col] = le.transform(app_train[col])\n",
    "            app_test[col] = le.transform(app_test[col])\n",
    "            \n",
    "            # Keep track of how many columns were label encoded\n",
    "            le_count += 1\n",
    "            \n",
    "app_train = pd.get_dummies(app_train)\n",
    "app_test = pd.get_dummies(app_test)\n",
    "\n",
    "# Create an anomalous flag column\n",
    "app_train['DAYS_EMPLOYED_ANOM'] = app_train[\"DAYS_EMPLOYED\"] == 365243\n",
    "app_train['DAYS_EMPLOYED'].replace({365243: np.nan}, inplace = True)\n",
    "# also apply to testing dataset\n",
    "app_test['DAYS_EMPLOYED_ANOM'] = app_test[\"DAYS_EMPLOYED\"] == 365243\n",
    "app_test[\"DAYS_EMPLOYED\"].replace({365243: np.nan}, inplace = True)\n",
    "\n",
    "# absolute the value of DAYS_BIRTH\n",
    "app_train['DAYS_BIRTH'] = abs(app_train['DAYS_BIRTH'])\n",
    "app_test['DAYS_BIRTH'] = abs(app_test['DAYS_BIRTH'])"
   ]
  },
  {
   "cell_type": "code",
   "execution_count": 20,
   "metadata": {},
   "outputs": [
    {
     "data": {
      "text/plain": [
       "(100000, 200000]          155898\n",
       "(200000, 500000]           85213\n",
       "(0, 100000]                63698\n",
       "(500000, 1000000]           2452\n",
       "(1000000, 5000000]           245\n",
       "(5000000, 100000000]           4\n",
       "(100000000, 200000000]         1\n",
       "Name: AMT_INCOME_TOTAL, dtype: int64"
      ]
     },
     "execution_count": 20,
     "metadata": {},
     "output_type": "execute_result"
    }
   ],
   "source": [
    "Income_train = pd.read_csv(f_app_train)\n",
    "Income = pd.cut(Income_train['AMT_INCOME_TOTAL'], [0,100000,200000,500000,1000000,5000000,100000000,200000000])\n",
    "Income.value_counts()\n",
    "\n"
   ]
  },
  {
   "cell_type": "code",
   "execution_count": 28,
   "metadata": {},
   "outputs": [
    {
     "name": "stdout",
     "output_type": "stream",
     "text": [
      "[Interval(200000, 500000, closed='right'), Interval(0, 100000, closed='right'), Interval(100000, 200000, closed='right'), Interval(500000, 1000000, closed='right'), Interval(1000000, 5000000, closed='right'), Interval(100000000, 200000000, closed='right'), Interval(5000000, 100000000, closed='right')]\n",
      "0         2\n",
      "1         2\n",
      "2         0\n",
      "3         1\n",
      "4         1\n",
      "5         0\n",
      "6         1\n",
      "7         2\n",
      "8         1\n",
      "9         1\n",
      "10        1\n",
      "11        0\n",
      "12        0\n",
      "13        2\n",
      "14        1\n",
      "15        1\n",
      "16        1\n",
      "17        0\n",
      "18        1\n",
      "19        0\n",
      "20        1\n",
      "21        2\n",
      "22        2\n",
      "23        0\n",
      "24        1\n",
      "25        0\n",
      "26        1\n",
      "27        1\n",
      "28        2\n",
      "29        0\n",
      "         ..\n",
      "307481    2\n",
      "307482    2\n",
      "307483    0\n",
      "307484    3\n",
      "307485    2\n",
      "307486    2\n",
      "307487    1\n",
      "307488    1\n",
      "307489    2\n",
      "307490    0\n",
      "307491    0\n",
      "307492    3\n",
      "307493    1\n",
      "307494    2\n",
      "307495    1\n",
      "307496    2\n",
      "307497    1\n",
      "307498    1\n",
      "307499    0\n",
      "307500    2\n",
      "307501    0\n",
      "307502    0\n",
      "307503    1\n",
      "307504    1\n",
      "307505    1\n",
      "307506    1\n",
      "307507    0\n",
      "307508    1\n",
      "307509    1\n",
      "307510    1\n",
      "Name: INCOME_RANGE, Length: 307511, dtype: int32\n"
     ]
    }
   ],
   "source": [
    "print(list(Income.unique()))\n",
    "Income_class = list(Income.unique())\n",
    "le = LabelEncoder()\n",
    "le.fit(Income_class)\n",
    "Income_train['INCOME_RANGE'] = le.transform(Income)\n",
    "print(Income_train['INCOME_RANGE'])\n",
    "\n"
   ]
  },
  {
   "cell_type": "code",
   "execution_count": null,
   "metadata": {},
   "outputs": [],
   "source": []
  }
 ],
 "metadata": {
  "kernelspec": {
   "display_name": "Python 3",
   "language": "python",
   "name": "python3"
  },
  "language_info": {
   "codemirror_mode": {
    "name": "ipython",
    "version": 3
   },
   "file_extension": ".py",
   "mimetype": "text/x-python",
   "name": "python",
   "nbconvert_exporter": "python",
   "pygments_lexer": "ipython3",
   "version": "3.7.1"
  }
 },
 "nbformat": 4,
 "nbformat_minor": 2
}
