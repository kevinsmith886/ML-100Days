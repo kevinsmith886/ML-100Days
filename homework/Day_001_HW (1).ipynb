{
 "cells": [
  {
   "cell_type": "code",
   "execution_count": null,
   "metadata": {},
   "outputs": [],
   "source": [
    "作業1.\n",
    "Students perform in exam\n",
    "1.\t從此筆資料可以分析性別、學歷、種族與測驗成績的關係，根據分析的結果可得出某分類對應某測驗成績的優劣性，進而成為教育方針設計的依據。\n",
    "2.\t資料提供者是印度籍資料分析師，資料是由大學生提供而來\n",
    "3.\tGender、race、level of education、launch 、preparation都是string，考試成績是integer\n",
    "4.\t可用平均數、標準差進行評估\n",
    "\n",
    "\n",
    "作業2.\n",
    "1. 載客的績效應用司機實際在載客的時間做為衡量，因為司機在接客以及讓客人下車的時間區間都是持續在賺錢的，在提升績效以前應先得知目前的績效，如此以來進行任何改善才有比較的依據\n",
    "2.車隊中控除了應要求所有司機線上打卡，亦應要求司機載客時應向中控發出信號，中控則開始計時，司機載完客亦應向中空發出信號，中控則結束計時，如此以來會得到司機上下班的時間以及載客時間。\n",
    "3.integer\n",
    "4. 績效可用價值溪流圖中Process cycle efficiency(PCE)來評估，PCE = value-added time/ cycle time * 100%，這個百分比值越高代表一個作業流程中效益越高，對應此情境，一天的工作時間中若載客時間越高，則PCE越高。\n"
   ]
  }
 ],
 "metadata": {
  "kernelspec": {
   "display_name": "Python 3",
   "language": "python",
   "name": "python3"
  },
  "language_info": {
   "codemirror_mode": {
    "name": "ipython",
    "version": 3
   },
   "file_extension": ".py",
   "mimetype": "text/x-python",
   "name": "python",
   "nbconvert_exporter": "python",
   "pygments_lexer": "ipython3",
   "version": "3.6.5"
  }
 },
 "nbformat": 4,
 "nbformat_minor": 2
}
